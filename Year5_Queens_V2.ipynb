{
  "nbformat": 4,
  "nbformat_minor": 0,
  "metadata": {
    "colab": {
      "name": "Year5_Queens_V2.ipynb",
      "provenance": []
    },
    "kernelspec": {
      "name": "python3",
      "display_name": "Python 3"
    },
    "language_info": {
      "name": "python"
    }
  },
  "cells": [
    {
      "cell_type": "markdown",
      "source": [
        "## **Let us begin to Code in the Python Programming Language**\n",
        "**<br>This is the language of Artificial Intelligence**\n",
        "**<br>Google, Amazon, Netflix, etc. all use Python**\n",
        "**<br>We are in good company!**"
      ],
      "metadata": {
        "id": "7vvamONlAAfU"
      }
    },
    {
      "cell_type": "markdown",
      "source": [
        "## **(1) First of all type in and run the program below. Then make up your own programs involving Addition**"
      ],
      "metadata": {
        "id": "ZvFYWZe-AWUN"
      }
    },
    {
      "cell_type": "code",
      "source": [
        "# Example 1\n",
        "# Adding Numbers\n",
        "Apples = 10\n",
        "Bananas = 12\n",
        "Total = Apples + Bananas\n",
        "print(Total)"
      ],
      "metadata": {
        "colab": {
          "base_uri": "https://localhost:8080/"
        },
        "id": "tUOSnjcoAJL3",
        "outputId": "abc9e925-19ac-4f7b-8a09-dc3e66ed4d4e"
      },
      "execution_count": null,
      "outputs": [
        {
          "output_type": "stream",
          "name": "stdout",
          "text": [
            "22\n"
          ]
        }
      ]
    },
    {
      "cell_type": "markdown",
      "source": [
        "## **(2) Now type in and run the program below. Then make up your own programs involving Subtraction**"
      ],
      "metadata": {
        "id": "0NejATRYAw8O"
      }
    },
    {
      "cell_type": "code",
      "source": [
        "# Example 2\n",
        "# Subtracting Numbers\n",
        "Eggs = 12\n",
        "Bread = 5\n",
        "Total = Eggs - Bread\n",
        "print(Total)"
      ],
      "metadata": {
        "colab": {
          "base_uri": "https://localhost:8080/"
        },
        "id": "tkSakHFOBOoJ",
        "outputId": "0e75674d-4f2f-49f3-dd5a-2b411df5c059"
      },
      "execution_count": null,
      "outputs": [
        {
          "output_type": "stream",
          "name": "stdout",
          "text": [
            "7\n"
          ]
        }
      ]
    },
    {
      "cell_type": "markdown",
      "source": [
        "## **(3) Now type in and run the program below. Then make up your own programs involving Multiplication**"
      ],
      "metadata": {
        "id": "W_SEkrKZCBGE"
      }
    },
    {
      "cell_type": "code",
      "source": [
        "# Example 7\n",
        "Mangoes = 300\n",
        "Price = 5.5\n",
        "Total = Mangoes * Price\n",
        "print(Total)"
      ],
      "metadata": {
        "colab": {
          "base_uri": "https://localhost:8080/"
        },
        "id": "4EDRVzPkEY78",
        "outputId": "6387abd6-3655-4b8f-bfe9-939d20cd54c0"
      },
      "execution_count": null,
      "outputs": [
        {
          "output_type": "stream",
          "name": "stdout",
          "text": [
            "1650.0\n"
          ]
        }
      ]
    },
    {
      "cell_type": "markdown",
      "source": [
        "## **(4) - Extension Task -Study the Programs below about Division and then make up your own programs involving Division**"
      ],
      "metadata": {
        "id": "uW2malDYGTmX"
      }
    },
    {
      "cell_type": "code",
      "source": [
        "## Example 8\n",
        "## Dividing Numbers \n",
        "Peppers = 20\n",
        "People = 5\n",
        "Total = Peppers/People\n",
        "print(Total)"
      ],
      "metadata": {
        "colab": {
          "base_uri": "https://localhost:8080/"
        },
        "id": "3MposHMSHA6C",
        "outputId": "4c6adf6a-1e1b-474d-ad0f-fac57c948bc5"
      },
      "execution_count": null,
      "outputs": [
        {
          "output_type": "stream",
          "name": "stdout",
          "text": [
            "4.0\n"
          ]
        }
      ]
    }
  ]
}